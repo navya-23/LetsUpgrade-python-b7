{
  "nbformat": 4,
  "nbformat_minor": 0,
  "metadata": {
    "colab": {
      "name": "day5_assignment1.ipynb",
      "provenance": [],
      "authorship_tag": "ABX9TyMZfXeYri87AePEfWPrePYS",
      "include_colab_link": true
    },
    "kernelspec": {
      "name": "python3",
      "display_name": "Python 3"
    }
  },
  "cells": [
    {
      "cell_type": "markdown",
      "metadata": {
        "id": "view-in-github",
        "colab_type": "text"
      },
      "source": [
        "<a href=\"https://colab.research.google.com/github/navya-23/LetsUpgrade-python-b7/blob/master/day5_assignment1.ipynb\" target=\"_parent\"><img src=\"https://colab.research.google.com/assets/colab-badge.svg\" alt=\"Open In Colab\"/></a>"
      ]
    },
    {
      "cell_type": "code",
      "metadata": {
        "id": "n1OdAb31BfCO",
        "colab_type": "code",
        "colab": {
          "base_uri": "https://localhost:8080/",
          "height": 34
        },
        "outputId": "8497bbc6-2735-4017-dd1a-be657192ddc9"
      },
      "source": [
        "def sublist(lst1, lst2):\n",
        "   ls1 = [element for element in lst1 if element in lst2]\n",
        "   ls2 = [element for element in lst2 if element in lst1]\n",
        "   return ls1 == ls2\n",
        " \n",
        " \n",
        "lst1=[1,6,4,1,2,3,5]\n",
        "lst2=[1,1,5]\n",
        "print(sublist(lst1,lst2))"
      ],
      "execution_count": 3,
      "outputs": [
        {
          "output_type": "stream",
          "text": [
            "True\n"
          ],
          "name": "stdout"
        }
      ]
    },
    {
      "cell_type": "code",
      "metadata": {
        "id": "L0pJewuUFzSW",
        "colab_type": "code",
        "colab": {
          "base_uri": "https://localhost:8080/",
          "height": 34
        },
        "outputId": "224b4e45-32f6-4ac8-c055-482edd32baa1"
      },
      "source": [
        "def sublist(lst1, lst2):\n",
        "   ls1 = [element for element in lst1 if element in lst2]\n",
        "   ls2 = [element for element in lst2 if element in lst1]\n",
        "   return ls1 == ls2\n",
        " \n",
        " \n",
        "lst1=[1,5,6,5,1,2,3,6]\n",
        "lst2=[1,1,5]\n",
        "print(sublist(lst1,lst2))"
      ],
      "execution_count": 4,
      "outputs": [
        {
          "output_type": "stream",
          "text": [
            "False\n"
          ],
          "name": "stdout"
        }
      ]
    }
  ]
}