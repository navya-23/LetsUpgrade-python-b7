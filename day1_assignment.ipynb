{
  "nbformat": 4,
  "nbformat_minor": 0,
  "metadata": {
    "colab": {
      "name": "day1_assignment.ipynb",
      "provenance": [],
      "collapsed_sections": [],
      "authorship_tag": "ABX9TyNrhxLBREDTVTHUQK0wS5wl",
      "include_colab_link": true
    },
    "kernelspec": {
      "name": "python3",
      "display_name": "Python 3"
    }
  },
  "cells": [
    {
      "cell_type": "markdown",
      "metadata": {
        "id": "view-in-github",
        "colab_type": "text"
      },
      "source": [
        "<a href=\"https://colab.research.google.com/github/navya-23/LetsUpgrade-python-b7/blob/master/day1_assignment.ipynb\" target=\"_parent\"><img src=\"https://colab.research.google.com/assets/colab-badge.svg\" alt=\"Open In Colab\"/></a>"
      ]
    },
    {
      "cell_type": "code",
      "metadata": {
        "id": "jNsf8oKAoczO",
        "colab_type": "code",
        "colab": {
          "base_uri": "https://localhost:8080/",
          "height": 34
        },
        "outputId": "5592ebad-e142-40a1-b23f-9b53ac1ff86d"
      },
      "source": [
        "# List and its default functions:\n",
        "# append(): Adds an element at the end of the list\n",
        "Animals=['Dog','Elephant','Lion']\n",
        "Animals.append('Tiger')\n",
        "print(Animals)"
      ],
      "execution_count": 2,
      "outputs": [
        {
          "output_type": "stream",
          "text": [
            "['Dog', 'Elephant', 'Lion', 'Tiger']\n"
          ],
          "name": "stdout"
        }
      ]
    },
    {
      "cell_type": "code",
      "metadata": {
        "id": "nLYDygCYqEH0",
        "colab_type": "code",
        "colab": {
          "base_uri": "https://localhost:8080/",
          "height": 34
        },
        "outputId": "9b7b75e2-1ae8-44eb-bcd9-05edbf637f5c"
      },
      "source": [
        "#clear():\tRemoves all the elements from the list\n",
        "Animals=['Dog','Elephant','Lion']\n",
        "Animals.clear()\n",
        "print(Animals)\n"
      ],
      "execution_count": 4,
      "outputs": [
        {
          "output_type": "stream",
          "text": [
            "[]\n"
          ],
          "name": "stdout"
        }
      ]
    },
    {
      "cell_type": "code",
      "metadata": {
        "id": "AQ6C2HD2quAY",
        "colab_type": "code",
        "colab": {
          "base_uri": "https://localhost:8080/",
          "height": 34
        },
        "outputId": "4607107c-570c-4c0d-c52a-50c1609d3abe"
      },
      "source": [
        "#copy():Returns a copy of the list\n",
        "Animals=['Dog','Elephant','Lion']\n",
        "x=Animals.copy()\n",
        "print(x)\n"
      ],
      "execution_count": 5,
      "outputs": [
        {
          "output_type": "stream",
          "text": [
            "['Dog', 'Elephant', 'Lion']\n"
          ],
          "name": "stdout"
        }
      ]
    },
    {
      "cell_type": "code",
      "metadata": {
        "id": "bwL378LCrJMb",
        "colab_type": "code",
        "colab": {
          "base_uri": "https://localhost:8080/",
          "height": 34
        },
        "outputId": "723967c4-1851-4856-f7d7-092d0b028197"
      },
      "source": [
        "#count():\tReturns the number of elements with the specified value\n",
        "Animals=['Dog','Elephant','Lion','Dog']\n",
        "print(Animals.count('Dog'))\n"
      ],
      "execution_count": 10,
      "outputs": [
        {
          "output_type": "stream",
          "text": [
            "2\n"
          ],
          "name": "stdout"
        }
      ]
    },
    {
      "cell_type": "code",
      "metadata": {
        "id": "ra3ut4OFrt46",
        "colab_type": "code",
        "colab": {
          "base_uri": "https://localhost:8080/",
          "height": 34
        },
        "outputId": "55ebaf7e-637e-4c73-b834-1a14b2364fce"
      },
      "source": [
        "#extend():\tAdd the elements of a list (or any iterable), to the end of the current list\n",
        "Animals=['Dog','Elephant','Lion']\n",
        "x=['Tiger']\n",
        "Animals.extend(x)\n",
        "print(Animals)"
      ],
      "execution_count": 11,
      "outputs": [
        {
          "output_type": "stream",
          "text": [
            "['Dog', 'Elephant', 'Lion', 'Tiger']\n"
          ],
          "name": "stdout"
        }
      ]
    },
    {
      "cell_type": "code",
      "metadata": {
        "id": "heIqlduesPFi",
        "colab_type": "code",
        "colab": {
          "base_uri": "https://localhost:8080/",
          "height": 34
        },
        "outputId": "29eb002c-dbe5-4431-fb13-899485254752"
      },
      "source": [
        "#index():\tReturns the index of the first element with the specified value\n",
        "Animals=['Dog','Elephant','Lion']\n",
        "print(Animals.index('Elephant'))"
      ],
      "execution_count": 14,
      "outputs": [
        {
          "output_type": "stream",
          "text": [
            "1\n"
          ],
          "name": "stdout"
        }
      ]
    },
    {
      "cell_type": "code",
      "metadata": {
        "id": "nvopoDbIsqeM",
        "colab_type": "code",
        "colab": {
          "base_uri": "https://localhost:8080/",
          "height": 34
        },
        "outputId": "5c7f6423-abe4-43fc-bcb7-7cf215013cb8"
      },
      "source": [
        "#insert():\tAdds an element at the specified position\n",
        "Animals=['Dog','Elephant','Lion']\n",
        "Animals.insert(1,'Tiger')\n",
        "print(Animals)"
      ],
      "execution_count": 16,
      "outputs": [
        {
          "output_type": "stream",
          "text": [
            "['Dog', 'Tiger', 'Elephant', 'Lion']\n"
          ],
          "name": "stdout"
        }
      ]
    },
    {
      "cell_type": "code",
      "metadata": {
        "id": "enYRuLk4tAZL",
        "colab_type": "code",
        "colab": {
          "base_uri": "https://localhost:8080/",
          "height": 34
        },
        "outputId": "4f34a9b0-05f6-4ed8-b598-4c82a8f4bc3d"
      },
      "source": [
        "#pop():\tRemoves the element at the specified position\n",
        "Animals=['Dog','Elephant','Lion']\n",
        "Animals.pop(0)\n",
        "print(Animals)"
      ],
      "execution_count": 18,
      "outputs": [
        {
          "output_type": "stream",
          "text": [
            "['Elephant', 'Lion']\n"
          ],
          "name": "stdout"
        }
      ]
    },
    {
      "cell_type": "code",
      "metadata": {
        "id": "4m0GzKQetVS-",
        "colab_type": "code",
        "colab": {
          "base_uri": "https://localhost:8080/",
          "height": 34
        },
        "outputId": "668958c6-6ed2-4a8d-d8db-109cbde6ec14"
      },
      "source": [
        "#remove():\tRemoves the first item with the specified value\n",
        "Animals=['Dog','Elephant','Lion']\n",
        "Animals.remove('Elephant')\n",
        "print(Animals)"
      ],
      "execution_count": 20,
      "outputs": [
        {
          "output_type": "stream",
          "text": [
            "['Dog', 'Lion']\n"
          ],
          "name": "stdout"
        }
      ]
    },
    {
      "cell_type": "code",
      "metadata": {
        "id": "wDbo_KKBtnTm",
        "colab_type": "code",
        "colab": {
          "base_uri": "https://localhost:8080/",
          "height": 34
        },
        "outputId": "23df79f0-9cb0-4275-ef00-596808cb107f"
      },
      "source": [
        "#reverse():\tReverses the order of the list\n",
        "Animals=['Dog','Elephant','Lion']\n",
        "Animals.reverse()\n",
        "print(Animals)"
      ],
      "execution_count": 22,
      "outputs": [
        {
          "output_type": "stream",
          "text": [
            "['Lion', 'Elephant', 'Dog']\n"
          ],
          "name": "stdout"
        }
      ]
    },
    {
      "cell_type": "code",
      "metadata": {
        "id": "U_oMu_Jut5Al",
        "colab_type": "code",
        "colab": {
          "base_uri": "https://localhost:8080/",
          "height": 34
        },
        "outputId": "1ecd8b01-0a85-4a7d-c9bc-4f98dce54b72"
      },
      "source": [
        "#sort():\tSorts the list\n",
        "Animals=['Elephant','Lion','Dog']\n",
        "Animals.sort()\n",
        "print(Animals)"
      ],
      "execution_count": 23,
      "outputs": [
        {
          "output_type": "stream",
          "text": [
            "['Dog', 'Elephant', 'Lion']\n"
          ],
          "name": "stdout"
        }
      ]
    },
    {
      "cell_type": "code",
      "metadata": {
        "id": "tOvzZ8YNuK7b",
        "colab_type": "code",
        "colab": {
          "base_uri": "https://localhost:8080/",
          "height": 34
        },
        "outputId": "3a78f007-ab72-4338-84d6-ef157a9c1219"
      },
      "source": [
        "# Dictionaries and its default functions:\n",
        "#clear():\tRemoves all the elements from the dictionary\n",
        "car = {\n",
        "  \"brand\": \"Ford\",\n",
        "  \"model\": \"Mustang\",\n",
        "  \"year\": 1964\n",
        "}\n",
        "\n",
        "car.clear()\n",
        "\n",
        "print(car)"
      ],
      "execution_count": 24,
      "outputs": [
        {
          "output_type": "stream",
          "text": [
            "{}\n"
          ],
          "name": "stdout"
        }
      ]
    },
    {
      "cell_type": "code",
      "metadata": {
        "id": "EL63dWWvu2xJ",
        "colab_type": "code",
        "colab": {
          "base_uri": "https://localhost:8080/",
          "height": 34
        },
        "outputId": "dfd921dc-bcc3-4676-aa8e-00af0b4b53f6"
      },
      "source": [
        "#copy():\tReturns a copy of the dictionary\n",
        "car = {\n",
        "  \"brand\": \"Ford\",\n",
        "  \"model\": \"Mustang\",\n",
        "  \"year\": 1964\n",
        "}\n",
        "\n",
        "x = car.copy()\n",
        "\n",
        "print(x)"
      ],
      "execution_count": 25,
      "outputs": [
        {
          "output_type": "stream",
          "text": [
            "{'brand': 'Ford', 'model': 'Mustang', 'year': 1964}\n"
          ],
          "name": "stdout"
        }
      ]
    },
    {
      "cell_type": "code",
      "metadata": {
        "id": "aMJcw0B0ve4R",
        "colab_type": "code",
        "colab": {
          "base_uri": "https://localhost:8080/",
          "height": 34
        },
        "outputId": "5962bb42-5682-4a4a-e8ff-af1bbda1c686"
      },
      "source": [
        "#fromkeys():\tReturns a dictionary with the specified keys and value\n",
        "x = ('key1', 'key2', 'key3')\n",
        "y = 0\n",
        "\n",
        "thisdict = dict.fromkeys(x, y)\n",
        "\n",
        "print(thisdict)\n"
      ],
      "execution_count": 26,
      "outputs": [
        {
          "output_type": "stream",
          "text": [
            "{'key1': 0, 'key2': 0, 'key3': 0}\n"
          ],
          "name": "stdout"
        }
      ]
    },
    {
      "cell_type": "code",
      "metadata": {
        "id": "QVrNkm5Cvq2h",
        "colab_type": "code",
        "colab": {
          "base_uri": "https://localhost:8080/",
          "height": 34
        },
        "outputId": "60d48a00-3f10-45f8-8b26-3f363e9a234e"
      },
      "source": [
        "#get():\tReturns the value of the specified key\n",
        "car = {\n",
        "  \"brand\": \"Ford\",\n",
        "  \"model\": \"Mustang\",\n",
        "  \"year\": 1964\n",
        "}\n",
        "\n",
        "x = car.get(\"model\")\n",
        "\n",
        "print(x)"
      ],
      "execution_count": 27,
      "outputs": [
        {
          "output_type": "stream",
          "text": [
            "Mustang\n"
          ],
          "name": "stdout"
        }
      ]
    },
    {
      "cell_type": "code",
      "metadata": {
        "id": "O3pRKw9Rv1Y0",
        "colab_type": "code",
        "colab": {
          "base_uri": "https://localhost:8080/",
          "height": 34
        },
        "outputId": "70ee7ff5-e9af-4fed-94fe-82dc3b2d5fad"
      },
      "source": [
        "#items():\tReturns a list containing a tuple for each key value pair\n",
        "car = {\n",
        "  \"brand\": \"Ford\",\n",
        "  \"model\": \"Mustang\",\n",
        "  \"year\": 1964\n",
        "}\n",
        "\n",
        "x = car.items()\n",
        "\n",
        "print(x)\n"
      ],
      "execution_count": 28,
      "outputs": [
        {
          "output_type": "stream",
          "text": [
            "dict_items([('brand', 'Ford'), ('model', 'Mustang'), ('year', 1964)])\n"
          ],
          "name": "stdout"
        }
      ]
    },
    {
      "cell_type": "code",
      "metadata": {
        "id": "HhWRe_L5wNVa",
        "colab_type": "code",
        "colab": {
          "base_uri": "https://localhost:8080/",
          "height": 34
        },
        "outputId": "37d38547-af54-4f03-b3f2-ad997c310761"
      },
      "source": [
        "#keys():\tReturns a list containing the dictionary's keys\n",
        "car = {\n",
        "  \"brand\": \"Ford\",\n",
        "  \"model\": \"Mustang\",\n",
        "  \"year\": 1964\n",
        "}\n",
        "\n",
        "x = car.keys()\n",
        "\n",
        "print(x)"
      ],
      "execution_count": 29,
      "outputs": [
        {
          "output_type": "stream",
          "text": [
            "dict_keys(['brand', 'model', 'year'])\n"
          ],
          "name": "stdout"
        }
      ]
    },
    {
      "cell_type": "code",
      "metadata": {
        "id": "IvxK84QzwWoJ",
        "colab_type": "code",
        "colab": {
          "base_uri": "https://localhost:8080/",
          "height": 34
        },
        "outputId": "7b8543a9-bb04-45e8-f6ea-9146cddb6d69"
      },
      "source": [
        "#pop():\tRemoves the element with the specified key\n",
        "car = {\n",
        "  \"brand\": \"Ford\",\n",
        "  \"model\": \"Mustang\",\n",
        "  \"year\": 1964\n",
        "}\n",
        "\n",
        "car.pop(\"model\")\n",
        "\n",
        "print(car)\n"
      ],
      "execution_count": 30,
      "outputs": [
        {
          "output_type": "stream",
          "text": [
            "{'brand': 'Ford', 'year': 1964}\n"
          ],
          "name": "stdout"
        }
      ]
    },
    {
      "cell_type": "code",
      "metadata": {
        "id": "JqwUKhLXwiZ7",
        "colab_type": "code",
        "colab": {
          "base_uri": "https://localhost:8080/",
          "height": 34
        },
        "outputId": "6ae147a5-4d74-4d8e-9aeb-8df45029dc69"
      },
      "source": [
        "#popitem():\tRemoves the last inserted key-value pair\n",
        "car = {\n",
        "  \"brand\": \"Ford\",\n",
        "  \"model\": \"Mustang\",\n",
        "  \"year\": 1964\n",
        "}\n",
        "\n",
        "car.popitem()\n",
        "\n",
        "print(car)"
      ],
      "execution_count": 31,
      "outputs": [
        {
          "output_type": "stream",
          "text": [
            "{'brand': 'Ford', 'model': 'Mustang'}\n"
          ],
          "name": "stdout"
        }
      ]
    },
    {
      "cell_type": "code",
      "metadata": {
        "id": "4qbdbwlywrJA",
        "colab_type": "code",
        "colab": {
          "base_uri": "https://localhost:8080/",
          "height": 34
        },
        "outputId": "39e88222-d8a1-4256-903a-513f58cd46f7"
      },
      "source": [
        "#setdefault():\tReturns the value of the specified key. If the key does not exist: insert the key, with the specified value\n",
        "car = {\n",
        "  \"brand\": \"Ford\",\n",
        "  \"model\": \"Mustang\",\n",
        "  \"year\": 1964\n",
        "}\n",
        "\n",
        "x = car.setdefault(\"model\", \"Bronco\")\n",
        "\n",
        "print(x)"
      ],
      "execution_count": 32,
      "outputs": [
        {
          "output_type": "stream",
          "text": [
            "Mustang\n"
          ],
          "name": "stdout"
        }
      ]
    },
    {
      "cell_type": "code",
      "metadata": {
        "id": "14CN16E-w_rr",
        "colab_type": "code",
        "colab": {
          "base_uri": "https://localhost:8080/",
          "height": 34
        },
        "outputId": "200cd12c-b418-44ad-9af3-0f03eaf5cec0"
      },
      "source": [
        "#update():\tUpdates the dictionary with the specified key-value pairs\n",
        "car = {\n",
        "  \"brand\": \"Ford\",\n",
        "  \"model\": \"Mustang\",\n",
        "  \"year\": 1964\n",
        "}\n",
        "\n",
        "car.update({\"color\": \"White\"})\n",
        "\n",
        "print(car)"
      ],
      "execution_count": 33,
      "outputs": [
        {
          "output_type": "stream",
          "text": [
            "{'brand': 'Ford', 'model': 'Mustang', 'year': 1964, 'color': 'White'}\n"
          ],
          "name": "stdout"
        }
      ]
    },
    {
      "cell_type": "code",
      "metadata": {
        "id": "1k2LZcy9xJl1",
        "colab_type": "code",
        "colab": {
          "base_uri": "https://localhost:8080/",
          "height": 34
        },
        "outputId": "89b6314f-3637-4a9c-af06-561a956457e4"
      },
      "source": [
        "#values():\tReturns a list of all the values in the dictionary\n",
        "car = {\n",
        "  \"brand\": \"Ford\",\n",
        "  \"model\": \"Mustang\",\n",
        "  \"year\": 1964\n",
        "}\n",
        "\n",
        "x = car.values()\n",
        "\n",
        "print(x)\n"
      ],
      "execution_count": 34,
      "outputs": [
        {
          "output_type": "stream",
          "text": [
            "dict_values(['Ford', 'Mustang', 1964])\n"
          ],
          "name": "stdout"
        }
      ]
    },
    {
      "cell_type": "code",
      "metadata": {
        "id": "JkbPGCkszk5S",
        "colab_type": "code",
        "colab": {
          "base_uri": "https://localhost:8080/",
          "height": 34
        },
        "outputId": "78a50f0b-fded-4a5f-bc24-b3549027d720"
      },
      "source": [
        "#sets and its default functions:\n",
        "#add():\tAdds an element to the set\n",
        "Animals={'Dog','Elephant','Lion'}\n",
        "Animals.add('Tiger')\n",
        "print(Animals)"
      ],
      "execution_count": 36,
      "outputs": [
        {
          "output_type": "stream",
          "text": [
            "{'Dog', 'Lion', 'Tiger', 'Elephant'}\n"
          ],
          "name": "stdout"
        }
      ]
    },
    {
      "cell_type": "code",
      "metadata": {
        "id": "lzYKlwOf0CiP",
        "colab_type": "code",
        "colab": {
          "base_uri": "https://localhost:8080/",
          "height": 34
        },
        "outputId": "635ab522-90de-4f95-c30f-5a66bad5dbfe"
      },
      "source": [
        "#clear():\tRemoves all the elements from the set\n",
        "Animals={'Dog','Elephant','Lion'}\n",
        "Animals.clear()\n",
        "print(Animals)"
      ],
      "execution_count": 37,
      "outputs": [
        {
          "output_type": "stream",
          "text": [
            "set()\n"
          ],
          "name": "stdout"
        }
      ]
    },
    {
      "cell_type": "code",
      "metadata": {
        "id": "zl8sRXWt0VXf",
        "colab_type": "code",
        "colab": {
          "base_uri": "https://localhost:8080/",
          "height": 34
        },
        "outputId": "7783253f-6518-4e15-e052-121aff98d909"
      },
      "source": [
        "#copy():\tReturns a copy of the set\n",
        "Animals={'Dog','Elephant','Lion'}\n",
        "x=Animals.copy()\n",
        "print(x)"
      ],
      "execution_count": 39,
      "outputs": [
        {
          "output_type": "stream",
          "text": [
            "{'Dog', 'Lion', 'Elephant'}\n"
          ],
          "name": "stdout"
        }
      ]
    },
    {
      "cell_type": "code",
      "metadata": {
        "id": "oKLA-Ws-0kn0",
        "colab_type": "code",
        "colab": {
          "base_uri": "https://localhost:8080/",
          "height": 34
        },
        "outputId": "05350be4-d114-4e62-fa9b-bfaeb184c75e"
      },
      "source": [
        "#intersection():\tReturns a set, that is the intersection of two other sets\n",
        "a={1,2,3,4,5}\n",
        "b={2,4,5,6,8}\n",
        "print(a.intersection(b))"
      ],
      "execution_count": 40,
      "outputs": [
        {
          "output_type": "stream",
          "text": [
            "{2, 4, 5}\n"
          ],
          "name": "stdout"
        }
      ]
    },
    {
      "cell_type": "code",
      "metadata": {
        "id": "TZvthcMQ06gc",
        "colab_type": "code",
        "colab": {
          "base_uri": "https://localhost:8080/",
          "height": 34
        },
        "outputId": "691e84c8-d963-4943-a61b-5919062ad627"
      },
      "source": [
        "#union():\tReturn a set containing the union of sets\n",
        "a={1,2,3,4,5}\n",
        "b={2,4,5,6,8}\n",
        "print(a.union(b))"
      ],
      "execution_count": 41,
      "outputs": [
        {
          "output_type": "stream",
          "text": [
            "{1, 2, 3, 4, 5, 6, 8}\n"
          ],
          "name": "stdout"
        }
      ]
    },
    {
      "cell_type": "code",
      "metadata": {
        "id": "9DIWbext1aL-",
        "colab_type": "code",
        "colab": {
          "base_uri": "https://localhost:8080/",
          "height": 34
        },
        "outputId": "3ba1d86f-daa1-4ce0-b149-c5d63ec40d9d"
      },
      "source": [
        "#tuple and its default functions:\n",
        "#The count(): method returns the number of times element appears in the tuple\n",
        "vowels = ('a', 'e', 'i', 'o', 'i', 'u')\n",
        "count = vowels.count('i')\n",
        "print(count)\n"
      ],
      "execution_count": 44,
      "outputs": [
        {
          "output_type": "stream",
          "text": [
            "2\n"
          ],
          "name": "stdout"
        }
      ]
    },
    {
      "cell_type": "code",
      "metadata": {
        "id": "oVR2nK5V2cqo",
        "colab_type": "code",
        "colab": {
          "base_uri": "https://localhost:8080/",
          "height": 51
        },
        "outputId": "86814ba9-2855-46c1-f59d-45c8265f8671"
      },
      "source": [
        "#The index(): method returns the index of the specified element in the tuple\n",
        "# vowels tuple\n",
        "vowels = ('a', 'e', 'i', 'o', 'i', 'u')\n",
        "\n",
        "# index of 'e' in vowels\n",
        "index = vowels.index('e')\n",
        "print('The index of e:', index)\n",
        "\n",
        "# element 'i' is searched\n",
        "# index of the first 'i' is returned\n",
        "index = vowels.index('i')\n",
        "\n",
        "print('The index of i:', index)"
      ],
      "execution_count": 45,
      "outputs": [
        {
          "output_type": "stream",
          "text": [
            "The index of e: 1\n",
            "The index of i: 2\n"
          ],
          "name": "stdout"
        }
      ]
    },
    {
      "cell_type": "code",
      "metadata": {
        "id": "zgQnujA22-xJ",
        "colab_type": "code",
        "colab": {
          "base_uri": "https://localhost:8080/",
          "height": 34
        },
        "outputId": "3b097617-fac4-403d-e20d-bc671009f3cc"
      },
      "source": [
        "# string and its default methods\n",
        "#capitalize()\tConverts the first character to upper case\n",
        "txt = \"hello, and welcome to my world.\"\n",
        "\n",
        "x = txt.capitalize()\n",
        "\n",
        "print (x)\n"
      ],
      "execution_count": 46,
      "outputs": [
        {
          "output_type": "stream",
          "text": [
            "Hello, and welcome to my world.\n"
          ],
          "name": "stdout"
        }
      ]
    },
    {
      "cell_type": "code",
      "metadata": {
        "id": "KgnqGJuk3OBi",
        "colab_type": "code",
        "colab": {
          "base_uri": "https://localhost:8080/",
          "height": 34
        },
        "outputId": "e670cf75-d6b5-4688-a840-bf4319842fbe"
      },
      "source": [
        "#count():\tReturns the number of times a specified value occurs in a string\n",
        "txt = \"I love mangoes, mangoes are my favorite fruit\"\n",
        "\n",
        "x = txt.count(\"mangoes\")\n",
        "\n",
        "print(x)"
      ],
      "execution_count": 51,
      "outputs": [
        {
          "output_type": "stream",
          "text": [
            "2\n"
          ],
          "name": "stdout"
        }
      ]
    },
    {
      "cell_type": "code",
      "metadata": {
        "id": "_hCrtIzG3xVl",
        "colab_type": "code",
        "colab": {
          "base_uri": "https://localhost:8080/",
          "height": 34
        },
        "outputId": "e46c7aca-2be7-4674-c736-c9fb807e667e"
      },
      "source": [
        "#find():\tSearches the string for a specified value and returns the position of where it was found\n",
        "txt = \"Hello, welcome to letsupgrade.\"\n",
        "\n",
        "x = txt.find(\"welcome\")\n",
        "\n",
        "print(x)"
      ],
      "execution_count": 52,
      "outputs": [
        {
          "output_type": "stream",
          "text": [
            "7\n"
          ],
          "name": "stdout"
        }
      ]
    },
    {
      "cell_type": "code",
      "metadata": {
        "id": "yAEOpzYu4CYq",
        "colab_type": "code",
        "colab": {
          "base_uri": "https://localhost:8080/",
          "height": 34
        },
        "outputId": "22758343-65bd-4343-c977-f333c709da91"
      },
      "source": [
        "#lower():\tConverts a string into lower case\n",
        "txt = \"Hello, welcome to letsupgrade.\"\n",
        "\n",
        "x = txt.lower()\n",
        "\n",
        "print(x)"
      ],
      "execution_count": 54,
      "outputs": [
        {
          "output_type": "stream",
          "text": [
            "hello, welcome to letsupgrade.\n"
          ],
          "name": "stdout"
        }
      ]
    },
    {
      "cell_type": "code",
      "metadata": {
        "id": "54DgCreh4XTy",
        "colab_type": "code",
        "colab": {
          "base_uri": "https://localhost:8080/",
          "height": 34
        },
        "outputId": "6f28428a-c3a1-411a-88d4-696f381cbfde"
      },
      "source": [
        "#replace():\tReturns a string where a specified value is replaced with a specified value\n",
        "txt = \"I like bananas\"\n",
        "\n",
        "x = txt.replace(\"bananas\", \"mangoes\")\n",
        "\n",
        "print(x)\n"
      ],
      "execution_count": 55,
      "outputs": [
        {
          "output_type": "stream",
          "text": [
            "I like mangoes\n"
          ],
          "name": "stdout"
        }
      ]
    }
  ]
}