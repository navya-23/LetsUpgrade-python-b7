{
  "nbformat": 4,
  "nbformat_minor": 0,
  "metadata": {
    "colab": {
      "name": "day9_assignment.ipynb",
      "provenance": [],
      "authorship_tag": "ABX9TyPC+mX71r6Wc+KtGOiucGYP",
      "include_colab_link": true
    },
    "kernelspec": {
      "name": "python3",
      "display_name": "Python 3"
    }
  },
  "cells": [
    {
      "cell_type": "markdown",
      "metadata": {
        "id": "view-in-github",
        "colab_type": "text"
      },
      "source": [
        "<a href=\"https://colab.research.google.com/github/navya-23/LetsUpgrade-python-b7/blob/master/day9_assignment.ipynb\" target=\"_parent\"><img src=\"https://colab.research.google.com/assets/colab-badge.svg\" alt=\"Open In Colab\"/></a>"
      ]
    },
    {
      "cell_type": "markdown",
      "metadata": {
        "id": "X4WP0BnWV2nI",
        "colab_type": "text"
      },
      "source": [
        "## Question **1** "
      ]
    },
    {
      "cell_type": "code",
      "metadata": {
        "id": "4A6BFEn4Rsor",
        "colab_type": "code",
        "colab": {
          "base_uri": "https://localhost:8080/",
          "height": 51
        },
        "outputId": "75c3f173-a020-4eae-af28-ae78a5691ed5"
      },
      "source": [
        "# Python program to check if  \n",
        "# given number is prime or not \n",
        "num=int(input(\"enter a number\"))\n",
        "\n",
        "  \n",
        "# If given number is greater than 1 \n",
        "if num > 1: \n",
        "      \n",
        "  # Iterate from 2 to n / 2  \n",
        "  for i in range(2, num): \n",
        "        \n",
        "      # If num is divisible by any number between  \n",
        "      # 2 and n / 2, it is not prime  \n",
        "      if (num % i) == 0: \n",
        "          print(num, \"is not a prime number\") \n",
        "          break\n",
        "  else: \n",
        "      print(num, \"is a prime number\") \n",
        "  \n",
        "else: \n",
        "  print(num, \"is not a prime number\") "
      ],
      "execution_count": 13,
      "outputs": [
        {
          "output_type": "stream",
          "text": [
            "enter a number11\n",
            "11 is a prime number\n"
          ],
          "name": "stdout"
        }
      ]
    },
    {
      "cell_type": "code",
      "metadata": {
        "id": "qgYITHZsUaKV",
        "colab_type": "code",
        "colab": {
          "base_uri": "https://localhost:8080/",
          "height": 34
        },
        "outputId": "364df879-31ff-411f-924f-ab5ff5de4e5e"
      },
      "source": [
        "def test_prime(n):\n",
        "    if (n==1):\n",
        "        return False\n",
        "    elif (n==2):\n",
        "        return True;\n",
        "    else:\n",
        "        for x in range(2,n):\n",
        "            if(n % x==0):\n",
        "                return False\n",
        "        return True             \n",
        "print(test_prime(9))"
      ],
      "execution_count": 24,
      "outputs": [
        {
          "output_type": "stream",
          "text": [
            "False\n"
          ],
          "name": "stdout"
        }
      ]
    },
    {
      "cell_type": "code",
      "metadata": {
        "id": "__FhewjJUmxd",
        "colab_type": "code",
        "colab": {
          "base_uri": "https://localhost:8080/",
          "height": 34
        },
        "outputId": "896f366b-8916-4679-e551-b6d388818e91"
      },
      "source": [
        "print(test_prime(5))"
      ],
      "execution_count": 25,
      "outputs": [
        {
          "output_type": "stream",
          "text": [
            "True\n"
          ],
          "name": "stdout"
        }
      ]
    },
    {
      "cell_type": "code",
      "metadata": {
        "id": "HnQOEml5VZIX",
        "colab_type": "code",
        "colab": {
          "base_uri": "https://localhost:8080/",
          "height": 34
        },
        "outputId": "d66210d3-1bb4-4f39-84d6-6b370fc929ca"
      },
      "source": [
        "print(test_prime(15))"
      ],
      "execution_count": 26,
      "outputs": [
        {
          "output_type": "stream",
          "text": [
            "False\n"
          ],
          "name": "stdout"
        }
      ]
    },
    {
      "cell_type": "code",
      "metadata": {
        "id": "pHIf-v0aVfY_",
        "colab_type": "code",
        "colab": {
          "base_uri": "https://localhost:8080/",
          "height": 34
        },
        "outputId": "cdb690eb-398e-46c1-91fd-686900e22e61"
      },
      "source": [
        "print(test_prime(11))"
      ],
      "execution_count": 27,
      "outputs": [
        {
          "output_type": "stream",
          "text": [
            "True\n"
          ],
          "name": "stdout"
        }
      ]
    },
    {
      "cell_type": "markdown",
      "metadata": {
        "id": "ZIpp47F5VxBD",
        "colab_type": "text"
      },
      "source": [
        "# Question **2**"
      ]
    },
    {
      "cell_type": "code",
      "metadata": {
        "id": "KL8QPUg4WCzD",
        "colab_type": "code",
        "colab": {
          "base_uri": "https://localhost:8080/",
          "height": 170
        },
        "outputId": "7de5dfd2-a05c-4273-f3b8-a94215611304"
      },
      "source": [
        "#Python program find armstrong numbers between 1 to 1000\n",
        "def armstrong(num):\n",
        "  for num in range(1,num):\n",
        "    temp=num\n",
        "    sum=0\n",
        "    while temp>0:\n",
        "        digit=temp%10\n",
        "        sum=sum+digit**3\n",
        "        temp=temp//10\n",
        "        if sum==num:\n",
        "            print (num)\n",
        "#driver code\n",
        "armstrong(1000)"
      ],
      "execution_count": 31,
      "outputs": [
        {
          "output_type": "stream",
          "text": [
            "1\n",
            "64\n",
            "125\n",
            "153\n",
            "216\n",
            "370\n",
            "371\n",
            "407\n",
            "729\n"
          ],
          "name": "stdout"
        }
      ]
    }
  ]
}