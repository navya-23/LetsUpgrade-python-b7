{
  "nbformat": 4,
  "nbformat_minor": 0,
  "metadata": {
    "colab": {
      "name": "day3_assignment1.ipynb",
      "provenance": [],
      "authorship_tag": "ABX9TyNPCwkeHfmHi5ukkSITfNC6",
      "include_colab_link": true
    },
    "kernelspec": {
      "name": "python3",
      "display_name": "Python 3"
    }
  },
  "cells": [
    {
      "cell_type": "markdown",
      "metadata": {
        "id": "view-in-github",
        "colab_type": "text"
      },
      "source": [
        "<a href=\"https://colab.research.google.com/github/navya-23/LetsUpgrade-python-b7/blob/master/day3_assignment1.ipynb\" target=\"_parent\"><img src=\"https://colab.research.google.com/assets/colab-badge.svg\" alt=\"Open In Colab\"/></a>"
      ]
    },
    {
      "cell_type": "code",
      "metadata": {
        "id": "VzNH6Qvb5rrJ",
        "colab_type": "code",
        "colab": {
          "base_uri": "https://localhost:8080/",
          "height": 51
        },
        "outputId": "d151da27-a268-4375-b665-c5702025138b"
      },
      "source": [
        "# plane landing \n",
        "#day3 assignment1\n",
        "altitude=int(input(\"enter the altitude:\"))\n",
        "if altitude==1000:\n",
        "  print(\"safe to land\")\n",
        "elif altitude>1000 and altitude < 50000:\n",
        "  print(\"bring it to 1000\")\n",
        "elif altitude>50000:\n",
        "  print(\"turn around\")\n"
      ],
      "execution_count": 11,
      "outputs": [
        {
          "output_type": "stream",
          "text": [
            "enter the altitude:1000\n",
            "safe to land\n"
          ],
          "name": "stdout"
        }
      ]
    },
    {
      "cell_type": "code",
      "metadata": {
        "id": "YkBu14m17IA7",
        "colab_type": "code",
        "colab": {
          "base_uri": "https://localhost:8080/",
          "height": 51
        },
        "outputId": "722d2972-3a29-49e2-cec1-b064d1a1e6ef"
      },
      "source": [
        "altitude=int(input(\"enter the altitude:\"))\n",
        "if altitude==1000:\n",
        "  print(\"safe to land\")\n",
        "elif altitude>1000 and altitude < 50000:\n",
        "  print(\"bring it to 1000\")\n",
        "elif altitude>50000:\n",
        "  print(\"turn around\")\n"
      ],
      "execution_count": 10,
      "outputs": [
        {
          "output_type": "stream",
          "text": [
            "enter the altitude:45000\n",
            "bring it to 1000\n"
          ],
          "name": "stdout"
        }
      ]
    },
    {
      "cell_type": "code",
      "metadata": {
        "id": "E6eAjbQn7Lba",
        "colab_type": "code",
        "colab": {
          "base_uri": "https://localhost:8080/",
          "height": 51
        },
        "outputId": "ad4cb11b-4cf0-49d7-904a-6f115f007328"
      },
      "source": [
        "altitude=int(input(\"enter the altitude:\"))\n",
        "if altitude==1000:\n",
        "  print(\"safe to land\")\n",
        "elif altitude>1000 and altitude < 50000:\n",
        "  print(\"bring it to 1000\")\n",
        "elif altitude>50000:\n",
        "  print(\"turn around\")\n"
      ],
      "execution_count": 12,
      "outputs": [
        {
          "output_type": "stream",
          "text": [
            "enter the altitude:60000\n",
            "turn around\n"
          ],
          "name": "stdout"
        }
      ]
    }
  ]
}