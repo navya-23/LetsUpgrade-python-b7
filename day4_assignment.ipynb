{
  "nbformat": 4,
  "nbformat_minor": 0,
  "metadata": {
    "colab": {
      "name": "day4_assignment.ipynb",
      "provenance": [],
      "authorship_tag": "ABX9TyOU77m7qKEpQ1lmTusmcBR/",
      "include_colab_link": true
    },
    "kernelspec": {
      "name": "python3",
      "display_name": "Python 3"
    }
  },
  "cells": [
    {
      "cell_type": "markdown",
      "metadata": {
        "id": "view-in-github",
        "colab_type": "text"
      },
      "source": [
        "<a href=\"https://colab.research.google.com/github/navya-23/LetsUpgrade-python-b7/blob/master/day4_assignment.ipynb\" target=\"_parent\"><img src=\"https://colab.research.google.com/assets/colab-badge.svg\" alt=\"Open In Colab\"/></a>"
      ]
    },
    {
      "cell_type": "code",
      "metadata": {
        "id": "6e_eFc38-CFm",
        "colab_type": "code",
        "colab": {
          "base_uri": "https://localhost:8080/",
          "height": 119
        },
        "outputId": "58de887e-fbc2-453f-a0d2-7efe1f712d74"
      },
      "source": [
        "lower = 104\n",
        "upper =  702\n",
        "  \n",
        "for num in range(lower,upper + 1):  \n",
        "   sum = 0  \n",
        "   temp = num  \n",
        "   while temp > 0:  \n",
        "       digit = temp % 10  \n",
        "       sum += digit ** 3  \n",
        "       temp //= 10  \n",
        "       if num == sum:  \n",
        "            print(num) \n",
        "# I Tried for the number u hve given..but iam getting some error as its very large number so i tired executing for smaller range "
      ],
      "execution_count": 9,
      "outputs": [
        {
          "output_type": "stream",
          "text": [
            "125\n",
            "153\n",
            "216\n",
            "370\n",
            "371\n",
            "407\n"
          ],
          "name": "stdout"
        }
      ]
    }
  ]
}